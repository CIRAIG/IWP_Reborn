{
 "cells": [
  {
   "cell_type": "code",
   "execution_count": null,
   "id": "1c79e4ce",
   "metadata": {},
   "outputs": [],
   "source": [
    "# load the package\n",
    "import sys\n",
    "sys.path.append('C://Users/11max/PycharmProjects/IW_Reborn/')\n",
    "import parse_iw"
   ]
  },
  {
   "cell_type": "code",
   "execution_count": null,
   "id": "da03606c",
   "metadata": {},
   "outputs": [],
   "source": [
    "# create the object\n",
    "iw = parse_iw.Parse(path_access_db='C://Users/11max/PycharmProjects/IW_Reborn/impact_world_plus_2.1_source.db', \n",
    "                      version='2.1', bw2_projects=['ecoinvent3.8','ecoinvent3.9','ecoinvent3.10'])"
   ]
  },
  {
   "cell_type": "code",
   "execution_count": null,
   "id": "ba2b5b45",
   "metadata": {},
   "outputs": [],
   "source": [
    "# load all CFs\n",
    "iw.load_cfs()"
   ]
  },
  {
   "cell_type": "code",
   "execution_count": null,
   "id": "3cd7ac83",
   "metadata": {},
   "outputs": [],
   "source": [
    "# format to match all software\n",
    "self.export_to_sp()\n",
    "self.export_to_bw2()\n",
    "self.export_to_olca()"
   ]
  },
  {
   "cell_type": "code",
   "execution_count": null,
   "id": "df95f428",
   "metadata": {},
   "outputs": [],
   "source": [
    "# produce all the files for downloads\n",
    "iw.produce_files()"
   ]
  }
 ],
 "metadata": {
  "kernelspec": {
   "display_name": "Python 3 (ipykernel)",
   "language": "python",
   "name": "python3"
  },
  "language_info": {
   "codemirror_mode": {
    "name": "ipython",
    "version": 3
   },
   "file_extension": ".py",
   "mimetype": "text/x-python",
   "name": "python",
   "nbconvert_exporter": "python",
   "pygments_lexer": "ipython3",
   "version": "3.11.8"
  }
 },
 "nbformat": 4,
 "nbformat_minor": 5
}
