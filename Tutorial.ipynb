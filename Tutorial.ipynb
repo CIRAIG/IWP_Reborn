{
 "cells": [
  {
   "cell_type": "code",
   "execution_count": null,
   "id": "1c79e4ce",
   "metadata": {},
   "outputs": [],
   "source": [
    "# load the package\n",
    "import sys\n",
    "sys.path.append('C://Users/11max/PycharmProjects/IW_Reborn/')\n",
    "import parse_iw"
   ]
  },
  {
   "cell_type": "code",
   "execution_count": null,
   "id": "da03606c",
   "metadata": {},
   "outputs": [],
   "source": [
    "# create the object\n",
    "iw = parse_iw.Parse(path_access_db='C://Users/11max/Desktop/Work/Databases/Impact_world+/IWplus_public_v2.0.accdb',\n",
    "                    version=2.0, bw2_project='ecoinvent3.8')"
   ]
  },
  {
   "cell_type": "code",
   "execution_count": null,
   "id": "ba2b5b45",
   "metadata": {},
   "outputs": [],
   "source": [
    "# load all CFs\n",
    "iw.load_cfs()"
   ]
  },
  {
   "cell_type": "code",
   "execution_count": null,
   "id": "3cd7ac83",
   "metadata": {},
   "outputs": [],
   "source": [
    "# make the link to ecoinvent flows\n",
    "iw.link_to_ecoinvent()"
   ]
  },
  {
   "cell_type": "code",
   "execution_count": null,
   "id": "2f8f4766",
   "metadata": {},
   "outputs": [],
   "source": [
    "# export CFs to bw2 format\n",
    "iw.export_to_bw2()"
   ]
  },
  {
   "cell_type": "code",
   "execution_count": null,
   "id": "d52117d0",
   "metadata": {},
   "outputs": [],
   "source": [
    "# export CFs to SP format\n",
    "iw.export_to_sp()"
   ]
  },
  {
   "cell_type": "code",
   "execution_count": null,
   "id": "df95f428",
   "metadata": {},
   "outputs": [],
   "source": [
    "# produce all the files for downloads\n",
    "iw.produce_files()"
   ]
  }
 ],
 "metadata": {
  "kernelspec": {
   "display_name": "Python 3 (ipykernel)",
   "language": "python",
   "name": "python3"
  },
  "language_info": {
   "codemirror_mode": {
    "name": "ipython",
    "version": 3
   },
   "file_extension": ".py",
   "mimetype": "text/x-python",
   "name": "python",
   "nbconvert_exporter": "python",
   "pygments_lexer": "ipython3",
   "version": "3.9.7"
  }
 },
 "nbformat": 4,
 "nbformat_minor": 5
}
